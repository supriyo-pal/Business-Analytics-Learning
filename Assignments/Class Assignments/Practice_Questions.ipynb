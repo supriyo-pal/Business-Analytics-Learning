{
  "cells": [
    {
      "cell_type": "markdown",
      "metadata": {
        "id": "17KAgjMoDFms"
      },
      "source": [
        "##### Q1\n",
        "\n",
        "What will the output be of ((500//7) % 5) ** 3?"
      ]
    },
    {
      "cell_type": "code",
      "source": [
        "((500//7) % 5) ** 3"
      ],
      "metadata": {
        "id": "UGmBk6sVDT-o",
        "outputId": "19b96d28-3e11-44ea-b9d2-771475f64c01",
        "colab": {
          "base_uri": "https://localhost:8080/"
        }
      },
      "execution_count": 1,
      "outputs": [
        {
          "output_type": "execute_result",
          "data": {
            "text/plain": [
              "1"
            ]
          },
          "metadata": {},
          "execution_count": 1
        }
      ]
    },
    {
      "cell_type": "markdown",
      "metadata": {
        "id": "A2PC_gIbDFm0"
      },
      "source": [
        "##### Q2\n",
        "\n",
        "How will you extract ‘love’ from the string S = “I love Python”? (More than one option may be correct.)."
      ]
    },
    {
      "cell_type": "code",
      "source": [
        "S = \"I love Python\"\n",
        "print(S[2:7])"
      ],
      "metadata": {
        "id": "dxJgnrKlEVMN",
        "outputId": "1350dde9-d7b4-4501-bcf9-977fb04f1bdd",
        "colab": {
          "base_uri": "https://localhost:8080/"
        }
      },
      "execution_count": 9,
      "outputs": [
        {
          "output_type": "stream",
          "name": "stdout",
          "text": [
            "love \n"
          ]
        }
      ]
    },
    {
      "cell_type": "markdown",
      "metadata": {
        "id": "5QX9grRfDFm2"
      },
      "source": [
        "##### Q3\n",
        "\n",
        "What will the output of 3 * 3 ** 3 be?"
      ]
    },
    {
      "cell_type": "code",
      "source": [
        "3 * 3 ** 3"
      ],
      "metadata": {
        "id": "1qU_8YBsEN8V",
        "outputId": "5aca7622-709d-4d35-c03e-c16bd3e6bfec",
        "colab": {
          "base_uri": "https://localhost:8080/"
        }
      },
      "execution_count": 7,
      "outputs": [
        {
          "output_type": "execute_result",
          "data": {
            "text/plain": [
              "81"
            ]
          },
          "metadata": {},
          "execution_count": 7
        }
      ]
    },
    {
      "cell_type": "markdown",
      "metadata": {
        "id": "L0rZefBjDFm3"
      },
      "source": [
        "##### Q4\n",
        "\n",
        "If you have a tuple T = (3, 5, 7, 11), what will the output of T.append(9) be?"
      ]
    },
    {
      "cell_type": "markdown",
      "source": [
        "Ans- No tupple is immutble we will get error"
      ],
      "metadata": {
        "id": "-LCp4Tt-D4k6"
      }
    },
    {
      "cell_type": "markdown",
      "metadata": {
        "id": "N36Pw7m_DFm5"
      },
      "source": [
        "##### Q5\n",
        "\n",
        "What will the output of the following program be?\n",
        "\n",
        "L1 = ['Vikas', 'Akshay', 'Sanskar', 'Mahima']\n",
        "\n",
        "print(L1[1][-1])"
      ]
    },
    {
      "cell_type": "code",
      "source": [
        "L1 = ['Vikas', 'Akshay', 'Sanskar', 'Mahima']\n",
        "\n",
        "print(L1[1][-1])"
      ],
      "metadata": {
        "id": "aZxWFqrgDwci",
        "outputId": "8470c03f-76a8-4bfe-c198-74b12ca630be",
        "colab": {
          "base_uri": "https://localhost:8080/"
        }
      },
      "execution_count": 5,
      "outputs": [
        {
          "output_type": "stream",
          "name": "stdout",
          "text": [
            "y\n"
          ]
        }
      ]
    },
    {
      "cell_type": "markdown",
      "metadata": {
        "id": "JyohAcjFDFm7"
      },
      "source": [
        "##### Q6\n",
        "\n",
        "What will be the output ?\n",
        "\n",
        "l = [32, 34, 12, 27, 33]\n",
        "\n",
        "l.append([14, 19])\n",
        "\n",
        "print(len(l))"
      ]
    },
    {
      "cell_type": "code",
      "execution_count": 4,
      "metadata": {
        "id": "yOHNVqztDFm9",
        "outputId": "90302b48-87b9-4a2a-ebf5-7ce009cd90ae",
        "colab": {
          "base_uri": "https://localhost:8080/"
        }
      },
      "outputs": [
        {
          "output_type": "stream",
          "name": "stdout",
          "text": [
            "6\n"
          ]
        }
      ],
      "source": [
        "l = [32, 34, 12, 27, 33]\n",
        "\n",
        "l.append([14, 19])\n",
        "\n",
        "print(len(l))"
      ]
    }
  ],
  "metadata": {
    "kernelspec": {
      "display_name": "Python 3",
      "language": "python",
      "name": "python3"
    },
    "language_info": {
      "codemirror_mode": {
        "name": "ipython",
        "version": 3
      },
      "file_extension": ".py",
      "mimetype": "text/x-python",
      "name": "python",
      "nbconvert_exporter": "python",
      "pygments_lexer": "ipython3",
      "version": "3.7.3"
    },
    "colab": {
      "name": "Practice Questions.ipynb",
      "provenance": []
    }
  },
  "nbformat": 4,
  "nbformat_minor": 0
}